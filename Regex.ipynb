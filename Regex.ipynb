{
 "cells": [
  {
   "cell_type": "markdown",
   "id": "17abefb3",
   "metadata": {},
   "source": [
    "# ChatGPT y Regex: Explorando el Mundo de las Expresiones Regulares\n"
   ]
  },
  {
   "cell_type": "markdown",
   "id": "034148b1",
   "metadata": {},
   "source": [
    "# Regex en Acción: Tutorial Práctico"
   ]
  },
  {
   "cell_type": "markdown",
   "id": "d533754d",
   "metadata": {},
   "source": [
    "## <b>Contenido</b>: \n",
    "- [Enfoque operativo](#hacer)\n",
    "- [Aspectos Fundamentales](#regex) \n",
    "- [Guia para utilizar regex con ChatGPT](#guia)\n",
    "  - [Regex para correos electrónicos](#gmail)\n",
    "- [Aplicaciones](#ejemplos)\n",
    "  - [Regex para telefono](#telefono)\n",
    "  - [Regex para URL](#url)\n",
    "  - [Regex para fechas](#fechas)\n",
    "  - [Regex para VIN](#vin)\n",
    "    - [Ejemplo de Verificación con ChatGPT](#ejemplo)"
   ]
  },
  {
   "cell_type": "markdown",
   "id": "4587a5cc",
   "metadata": {},
   "source": [
    "<a name='hacer'></a>\n",
    "## <font color=blue>Enfoque operativo</font>\n",
    "\n",
    "Nuestro propósito es emplear la técnica de prompting para realizar búsquedas altamente eficaces en modelos de lenguaje largo (MLL), como ChatGPT, Claude, Bart, Llama, entre otros. A través de este enfoque, buscamos aprovechar al máximo las capacidades de estos modelos avanzados, asegurando resultados más precisos y relevantes en nuestras exploraciones y análisis."
   ]
  },
  {
   "cell_type": "markdown",
   "id": "f33d75da",
   "metadata": {},
   "source": [
    "<a name='regex'></a>\n",
    "## <font color=blue>Aspectos Fundamentales</font>\n",
    "**Prompt:**\n",
    "\n",
    "Actua como un experto en el uso de expresiones regulares.  Se espera que expliques correcectamente el uso de las  expreseiones regulares, explayate lo suficiente pero sin caer en redundancias.No repitas mi pregunta, no te disculpes, no expliques lo que estás haciendo ni por qué. No hagas referencia a ti mismo. Límitate a contestar única y exclusivamente lo que te pregunté.\n",
    "\n",
    "**Respuesta:**\n",
    "\n",
    "Las expresiones regulares, también conocidas como regex, son secuencias de caracteres que definen patrones de búsqueda. Permiten realizar operaciones avanzadas de manipulación y búsqueda en texto. Algunos elementos clave incluyen caracteres literales que coinciden exactamente, metacaracteres que representan clases de caracteres o cuantificadores que especifican la cantidad de ocurrencias. Las regex son utilizadas en diversos contextos, como la validación de datos, la búsqueda de patrones específicos y la extracción de información. Su flexibilidad y potencia las convierten en una herramienta esencial para el procesamiento eficiente de texto en programación y análisis de datos."
   ]
  },
  {
   "attachments": {},
   "cell_type": "markdown",
   "id": "6c212dc9",
   "metadata": {},
   "source": [
    "<a name='guia'></a>\n",
    "## <font color=blue> Guía para utilizar regex con ChatGPT: \"Nuestro proceso de búsqueda\"</font>\n",
    "\n",
    "<a name='gmail'></a>\n",
    "### <font color=green>Regex para correos electrónicos</font>\n",
    "\n",
    "**Paso 1. Contexto(Designar el rol):** Comenzamos indicando el rol y/o función.  \n",
    "<font color=green>*Ejemplo:*</font> Actua como un generador de expresiones regulares. Tu función es generar expresiones regulares que coincidan con patrones específicos.\n",
    "\n",
    "\n",
    "**Paso 2. Datos de entrada(Prompt inicial):** Proporcionar una descripción clara y específica de lo que se necesita.  \n",
    "<font color=green>*Ejemplo:*</font> Actua como un generador de expresiones regulares. Tu función es generar expresiones regulares que coincidan con patrones específicos. Proporciona una expresión regular para extraer una dirección de correo electrónico.\n",
    "\n",
    "<font color=green>*Respuesta de ChatGPT:*</font>  \n",
    "Por supuesto, aquí tienes otra expresión regular que puedes utilizar para extraer direcciones de correo electrónico:\n",
    "```\n",
    "^[A-Za-z0-9._%+-]+@[A-Za-z0-9.-]+\\.[A-Za-z]{2,}$\n",
    "```\n",
    "Esta expresión regular sigue un patrón común para identificar direcciones de correo electrónico. Aquí hay una breve descripción de cada parte:\n",
    "- '^': Este símbolo indica que la coincidencia debe comenzar desde el inicio de la cadena.\n",
    "- '[A-Za-z0-9._%+-]+': Coincide con uno o más caracteres alfanuméricos, puntos, guiones bajos, porcentajes y signos más y menos antes del símbolo '@'.\n",
    "- '@': Coincide con el símbolo '@'.\n",
    "- '[A-Za-z0-9.-]+': Coincide con uno o más caracteres alfanuméricos, puntos y guiones bajos después del símbolo '@'.\n",
    "- '\\\\.': Coincide con el punto antes de la extensión del dominio.\n",
    "- '[A-Z|a-z]{2,}': Coincide con la extensión del dominio, que debe tener al menos dos caracteres alfabéticos.\n",
    "- '$': Este símbolo indica que la coincidencia debe llegar al final de la cadena.\n",
    "Esta expresión regular debería ser útil para la mayoría de las direcciones de correo electrónico estándar. Puedes ajustarla según tus necesidades específicas o el formato de correo electrónico que encuentres en tu conjunto de datos.\n",
    "\n",
    "**Observación:** El patrón anterior generado por el primer prompt no es válido en regex para filtrar información específica en un texto, ya que solo considera coincidencias al inicio y final de cada línea del documento. Para que el patrón funcione adecuadamente en un texto, es crucial proporcionar una descripción clara y concisa del contexto y los requisitos específicos que deben cumplir las coincidencias. Al especificar claramente el entorno y los criterios de búsqueda, podemos obtener un patrón más preciso y efectivo para el análisis de texto.\n",
    "\n",
    "<font color=green>*Ejemplo:*</font> Actua como un generador de expresiones regulares. Tu función es generar expresiones regulares que coincidan con patrones específicos *en el texto*. Proporciona una expresión regular para extraer una dirección de correo electrónico.\n",
    "\n",
    "**Paso 3. Instrución(Optimizar):** Para que ChatGPT comprenda mejor los requisitos, incluir ejemplos de coincidencias y no coincidencias.  \n",
    "<font color=green>*Ejemplo:*</font> Actua como un generador de expresiones regulares. Tu función es generar expresiones regulares que coincidan con patrones específicos en el texto. Proporciona una expresión regular para extraer una dirección de correo electrónico., con el siguiente formato 'jane.smith@example.com' , 'jane@outlook.com' y 'name@gmail.com', pero no con 'jane@.com' o 'jane@example'”."
   ]
  },
  {
   "cell_type": "code",
   "execution_count": null,
   "id": "ccfa0225",
   "metadata": {},
   "outputs": [],
   "source": []
  }
 ],
 "metadata": {
  "kernelspec": {
   "display_name": "Python 3 (ipykernel)",
   "language": "python",
   "name": "python3"
  },
  "language_info": {
   "codemirror_mode": {
    "name": "ipython",
    "version": 3
   },
   "file_extension": ".py",
   "mimetype": "text/x-python",
   "name": "python",
   "nbconvert_exporter": "python",
   "pygments_lexer": "ipython3",
   "version": "3.9.12"
  }
 },
 "nbformat": 4,
 "nbformat_minor": 5
}
