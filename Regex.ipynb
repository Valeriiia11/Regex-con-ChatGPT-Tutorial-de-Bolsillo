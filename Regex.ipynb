{
 "cells": [
  {
   "cell_type": "markdown",
   "id": "17abefb3",
   "metadata": {},
   "source": [
    "# ChatGPT y Regex: Explorando el Mundo de las Expresiones Regulares\n",
    "\n",
    "Karen Huamani Ccorpuna **(karenh88)**  \n",
    "Valeria Landa Cordova **(Valeriiia11)**"
   ]
  },
  {
   "cell_type": "code",
   "execution_count": null,
   "id": "48ecf8ad",
   "metadata": {},
   "outputs": [],
   "source": []
  }
 ],
 "metadata": {
  "kernelspec": {
   "display_name": "Python 3 (ipykernel)",
   "language": "python",
   "name": "python3"
  },
  "language_info": {
   "codemirror_mode": {
    "name": "ipython",
    "version": 3
   },
   "file_extension": ".py",
   "mimetype": "text/x-python",
   "name": "python",
   "nbconvert_exporter": "python",
   "pygments_lexer": "ipython3",
   "version": "3.9.12"
  }
 },
 "nbformat": 4,
 "nbformat_minor": 5
}
